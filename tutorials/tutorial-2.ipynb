{
 "cells": [
  {
   "cell_type": "markdown",
   "id": "43a48f08",
   "metadata": {
    "id": "43a48f08",
    "toc": true
   },
   "source": [
    "<h1>Table of Contents<span class=\"tocSkip\"></span></h1>\n",
    "<div class=\"toc\"><ul class=\"toc-item\"><li><span><a href=\"#EZyRB-Tutorial-2\" data-toc-modified-id=\"EZyRB-Tutorial-2-1\">EZyRB Tutorial 2</a></span><ul class=\"toc-item\"><li><span><a href=\"#Test-several-frameworks-at-once\" data-toc-modified-id=\"Test-several-frameworks-at-once-1.1\">Test several frameworks at once</a></span><ul class=\"toc-item\"><li><span><a href=\"#Initial-setting\" data-toc-modified-id=\"Initial-setting-1.1.1\">Initial setting</a></span></li><li><span><a href=\"#Comparison-between-different-methods\" data-toc-modified-id=\"Comparison-between-different-methods-1.1.2\">Comparison between different methods</a></span></li></ul></li></ul></li></ul></div>"
   ]
  },
  {
   "cell_type": "markdown",
   "id": "b0c39fb4",
   "metadata": {
    "id": "b0c39fb4"
   },
   "source": [
    "# EZyRB Tutorial 2\n",
    "## Test several frameworks at once\n",
    "\n",
    "In this tutorial, we will explain step by step how to use the **EZyRB** library to test different techniques for building the reduced order model. We will compare different methods of dimensionality reduction, interpolation and accuracy assessment.\n",
    "\n",
    "We consider here a computational fluid dynamics problem described by the (incompressible) Navier Stokes equations.\n",
    "We will be using the **Navier Stokes Dataset** that contains the output data from a full order flow simulation and can be found on **GitHub** under [Smithers library](https://github.com/mathLab/Smithers).\n",
    "**Smithers** is developed by **SISSA mathlab** and it contains some useful datasets and a multi-purpose toolbox that inherits functionality from other packages to make the process of dealing with these datasets much easier with more compact coding.\n",
    "\n",
    "The package can be installed using `python -m pip install smithers -U`, but for a detailed description about installation and usage we refer to original [Github page](https://github.com/mathLab/Smithers/blob/master/README.md).\n",
    "\n",
    "First of all, we just import the package and instantiate the dataset object."
   ]
  },
  {
   "cell_type": "code",
   "execution_count": 1,
   "id": "05f26f2c",
   "metadata": {
    "colab": {
     "base_uri": "https://localhost:8080/"
    },
    "collapsed": true,
    "executionInfo": {
     "elapsed": 114377,
     "status": "ok",
     "timestamp": 1753303115776,
     "user": {
      "displayName": "Kshitij Kumar Pandey",
      "userId": "07153743731363514895"
     },
     "user_tz": -120
    },
    "id": "05f26f2c",
    "outputId": "a5fcf9b2-7699-4afc-e9e8-b0ea0577de45"
   },
   "outputs": [
    {
     "name": "stdout",
     "output_type": "stream",
     "text": [
      "Requirement already satisfied: datasets in /usr/local/lib/python3.11/dist-packages (2.14.4)\n",
      "Collecting datasets\n",
      "  Downloading datasets-4.0.0-py3-none-any.whl.metadata (19 kB)\n",
      "Requirement already satisfied: huggingface_hub in /usr/local/lib/python3.11/dist-packages (0.33.4)\n",
      "Requirement already satisfied: fsspec in /usr/local/lib/python3.11/dist-packages (2025.7.0)\n",
      "Requirement already satisfied: filelock in /usr/local/lib/python3.11/dist-packages (from datasets) (3.18.0)\n",
      "Requirement already satisfied: numpy>=1.17 in /usr/local/lib/python3.11/dist-packages (from datasets) (2.0.2)\n",
      "Requirement already satisfied: pyarrow>=15.0.0 in /usr/local/lib/python3.11/dist-packages (from datasets) (18.1.0)\n",
      "Requirement already satisfied: dill<0.3.9,>=0.3.0 in /usr/local/lib/python3.11/dist-packages (from datasets) (0.3.7)\n",
      "Requirement already satisfied: pandas in /usr/local/lib/python3.11/dist-packages (from datasets) (2.2.2)\n",
      "Requirement already satisfied: requests>=2.32.2 in /usr/local/lib/python3.11/dist-packages (from datasets) (2.32.3)\n",
      "Requirement already satisfied: tqdm>=4.66.3 in /usr/local/lib/python3.11/dist-packages (from datasets) (4.67.1)\n",
      "Requirement already satisfied: xxhash in /usr/local/lib/python3.11/dist-packages (from datasets) (3.5.0)\n",
      "Requirement already satisfied: multiprocess<0.70.17 in /usr/local/lib/python3.11/dist-packages (from datasets) (0.70.15)\n",
      "Collecting fsspec\n",
      "  Downloading fsspec-2025.3.0-py3-none-any.whl.metadata (11 kB)\n",
      "Requirement already satisfied: packaging in /usr/local/lib/python3.11/dist-packages (from datasets) (25.0)\n",
      "Requirement already satisfied: pyyaml>=5.1 in /usr/local/lib/python3.11/dist-packages (from datasets) (6.0.2)\n",
      "Requirement already satisfied: typing-extensions>=3.7.4.3 in /usr/local/lib/python3.11/dist-packages (from huggingface_hub) (4.14.1)\n",
      "Requirement already satisfied: hf-xet<2.0.0,>=1.1.2 in /usr/local/lib/python3.11/dist-packages (from huggingface_hub) (1.1.5)\n",
      "Requirement already satisfied: aiohttp!=4.0.0a0,!=4.0.0a1 in /usr/local/lib/python3.11/dist-packages (from fsspec[http]<=2025.3.0,>=2023.1.0->datasets) (3.11.15)\n",
      "Requirement already satisfied: charset-normalizer<4,>=2 in /usr/local/lib/python3.11/dist-packages (from requests>=2.32.2->datasets) (3.4.2)\n",
      "Requirement already satisfied: idna<4,>=2.5 in /usr/local/lib/python3.11/dist-packages (from requests>=2.32.2->datasets) (3.10)\n",
      "Requirement already satisfied: urllib3<3,>=1.21.1 in /usr/local/lib/python3.11/dist-packages (from requests>=2.32.2->datasets) (2.5.0)\n",
      "Requirement already satisfied: certifi>=2017.4.17 in /usr/local/lib/python3.11/dist-packages (from requests>=2.32.2->datasets) (2025.7.14)\n",
      "Requirement already satisfied: python-dateutil>=2.8.2 in /usr/local/lib/python3.11/dist-packages (from pandas->datasets) (2.9.0.post0)\n",
      "Requirement already satisfied: pytz>=2020.1 in /usr/local/lib/python3.11/dist-packages (from pandas->datasets) (2025.2)\n",
      "Requirement already satisfied: tzdata>=2022.7 in /usr/local/lib/python3.11/dist-packages (from pandas->datasets) (2025.2)\n",
      "Requirement already satisfied: aiohappyeyeballs>=2.3.0 in /usr/local/lib/python3.11/dist-packages (from aiohttp!=4.0.0a0,!=4.0.0a1->fsspec[http]<=2025.3.0,>=2023.1.0->datasets) (2.6.1)\n",
      "Requirement already satisfied: aiosignal>=1.1.2 in /usr/local/lib/python3.11/dist-packages (from aiohttp!=4.0.0a0,!=4.0.0a1->fsspec[http]<=2025.3.0,>=2023.1.0->datasets) (1.4.0)\n",
      "Requirement already satisfied: attrs>=17.3.0 in /usr/local/lib/python3.11/dist-packages (from aiohttp!=4.0.0a0,!=4.0.0a1->fsspec[http]<=2025.3.0,>=2023.1.0->datasets) (25.3.0)\n",
      "Requirement already satisfied: frozenlist>=1.1.1 in /usr/local/lib/python3.11/dist-packages (from aiohttp!=4.0.0a0,!=4.0.0a1->fsspec[http]<=2025.3.0,>=2023.1.0->datasets) (1.7.0)\n",
      "Requirement already satisfied: multidict<7.0,>=4.5 in /usr/local/lib/python3.11/dist-packages (from aiohttp!=4.0.0a0,!=4.0.0a1->fsspec[http]<=2025.3.0,>=2023.1.0->datasets) (6.6.3)\n",
      "Requirement already satisfied: propcache>=0.2.0 in /usr/local/lib/python3.11/dist-packages (from aiohttp!=4.0.0a0,!=4.0.0a1->fsspec[http]<=2025.3.0,>=2023.1.0->datasets) (0.3.2)\n",
      "Requirement already satisfied: yarl<2.0,>=1.17.0 in /usr/local/lib/python3.11/dist-packages (from aiohttp!=4.0.0a0,!=4.0.0a1->fsspec[http]<=2025.3.0,>=2023.1.0->datasets) (1.20.1)\n",
      "Requirement already satisfied: six>=1.5 in /usr/local/lib/python3.11/dist-packages (from python-dateutil>=2.8.2->pandas->datasets) (1.17.0)\n",
      "Downloading datasets-4.0.0-py3-none-any.whl (494 kB)\n",
      "\u001b[2K   \u001b[90m\u2501\u2501\u2501\u2501\u2501\u2501\u2501\u2501\u2501\u2501\u2501\u2501\u2501\u2501\u2501\u2501\u2501\u2501\u2501\u2501\u2501\u2501\u2501\u2501\u2501\u2501\u2501\u2501\u2501\u2501\u2501\u2501\u2501\u2501\u2501\u2501\u2501\u2501\u2501\u2501\u001b[0m \u001b[32m494.8/494.8 kB\u001b[0m \u001b[31m9.8 MB/s\u001b[0m eta \u001b[36m0:00:00\u001b[0m\n",
      "\u001b[?25hDownloading fsspec-2025.3.0-py3-none-any.whl (193 kB)\n",
      "\u001b[2K   \u001b[90m\u2501\u2501\u2501\u2501\u2501\u2501\u2501\u2501\u2501\u2501\u2501\u2501\u2501\u2501\u2501\u2501\u2501\u2501\u2501\u2501\u2501\u2501\u2501\u2501\u2501\u2501\u2501\u2501\u2501\u2501\u2501\u2501\u2501\u2501\u2501\u2501\u2501\u2501\u2501\u2501\u001b[0m \u001b[32m193.6/193.6 kB\u001b[0m \u001b[31m12.0 MB/s\u001b[0m eta \u001b[36m0:00:00\u001b[0m\n",
      "\u001b[?25hInstalling collected packages: fsspec, datasets\n",
      "  Attempting uninstall: fsspec\n",
      "    Found existing installation: fsspec 2025.7.0\n",
      "    Uninstalling fsspec-2025.7.0:\n",
      "      Successfully uninstalled fsspec-2025.7.0\n",
      "  Attempting uninstall: datasets\n",
      "    Found existing installation: datasets 2.14.4\n",
      "    Uninstalling datasets-2.14.4:\n",
      "      Successfully uninstalled datasets-2.14.4\n",
      "\u001b[31mERROR: pip's dependency resolver does not currently take into account all the packages that are installed. This behaviour is the source of the following dependency conflicts.\n",
      "torch 2.6.0+cu124 requires nvidia-cublas-cu12==12.4.5.8; platform_system == \"Linux\" and platform_machine == \"x86_64\", but you have nvidia-cublas-cu12 12.5.3.2 which is incompatible.\n",
      "torch 2.6.0+cu124 requires nvidia-cuda-cupti-cu12==12.4.127; platform_system == \"Linux\" and platform_machine == \"x86_64\", but you have nvidia-cuda-cupti-cu12 12.5.82 which is incompatible.\n",
      "torch 2.6.0+cu124 requires nvidia-cuda-nvrtc-cu12==12.4.127; platform_system == \"Linux\" and platform_machine == \"x86_64\", but you have nvidia-cuda-nvrtc-cu12 12.5.82 which is incompatible.\n",
      "torch 2.6.0+cu124 requires nvidia-cuda-runtime-cu12==12.4.127; platform_system == \"Linux\" and platform_machine == \"x86_64\", but you have nvidia-cuda-runtime-cu12 12.5.82 which is incompatible.\n",
      "torch 2.6.0+cu124 requires nvidia-cudnn-cu12==9.1.0.70; platform_system == \"Linux\" and platform_machine == \"x86_64\", but you have nvidia-cudnn-cu12 9.3.0.75 which is incompatible.\n",
      "torch 2.6.0+cu124 requires nvidia-cufft-cu12==11.2.1.3; platform_system == \"Linux\" and platform_machine == \"x86_64\", but you have nvidia-cufft-cu12 11.2.3.61 which is incompatible.\n",
      "torch 2.6.0+cu124 requires nvidia-curand-cu12==10.3.5.147; platform_system == \"Linux\" and platform_machine == \"x86_64\", but you have nvidia-curand-cu12 10.3.6.82 which is incompatible.\n",
      "torch 2.6.0+cu124 requires nvidia-cusolver-cu12==11.6.1.9; platform_system == \"Linux\" and platform_machine == \"x86_64\", but you have nvidia-cusolver-cu12 11.6.3.83 which is incompatible.\n",
      "torch 2.6.0+cu124 requires nvidia-cusparse-cu12==12.3.1.170; platform_system == \"Linux\" and platform_machine == \"x86_64\", but you have nvidia-cusparse-cu12 12.5.1.3 which is incompatible.\n",
      "torch 2.6.0+cu124 requires nvidia-nvjitlink-cu12==12.4.127; platform_system == \"Linux\" and platform_machine == \"x86_64\", but you have nvidia-nvjitlink-cu12 12.5.82 which is incompatible.\n",
      "gcsfs 2025.7.0 requires fsspec==2025.7.0, but you have fsspec 2025.3.0 which is incompatible.\u001b[0m\u001b[31m\n",
      "\u001b[0mSuccessfully installed datasets-4.0.0 fsspec-2025.3.0\n",
      "Collecting git+https://github.com/mathLab/EZyRB.git\n",
      "  Cloning https://github.com/mathLab/EZyRB.git to /tmp/pip-req-build-zstm9rsm\n",
      "  Running command git clone --filter=blob:none --quiet https://github.com/mathLab/EZyRB.git /tmp/pip-req-build-zstm9rsm\n",
      "  Resolved https://github.com/mathLab/EZyRB.git to commit 0f4ffb73d2c32808cbf965f4f1d566f18ad54f1a\n",
      "  Preparing metadata (setup.py) ... \u001b[?25l\u001b[?25hdone\n",
      "Requirement already satisfied: future in /usr/local/lib/python3.11/dist-packages (from ezyrb==1.3.0) (1.0.0)\n",
      "Requirement already satisfied: numpy in /usr/local/lib/python3.11/dist-packages (from ezyrb==1.3.0) (2.0.2)\n",
      "Requirement already satisfied: scipy in /usr/local/lib/python3.11/dist-packages (from ezyrb==1.3.0) (1.16.0)\n",
      "Requirement already satisfied: matplotlib in /usr/local/lib/python3.11/dist-packages (from ezyrb==1.3.0) (3.10.0)\n",
      "Requirement already satisfied: scikit-learn>=1.0 in /usr/local/lib/python3.11/dist-packages (from ezyrb==1.3.0) (1.6.1)\n",
      "Requirement already satisfied: torch in /usr/local/lib/python3.11/dist-packages (from ezyrb==1.3.0) (2.6.0+cu124)\n",
      "Requirement already satisfied: joblib>=1.2.0 in /usr/local/lib/python3.11/dist-packages (from scikit-learn>=1.0->ezyrb==1.3.0) (1.5.1)\n",
      "Requirement already satisfied: threadpoolctl>=3.1.0 in /usr/local/lib/python3.11/dist-packages (from scikit-learn>=1.0->ezyrb==1.3.0) (3.6.0)\n",
      "Requirement already satisfied: contourpy>=1.0.1 in /usr/local/lib/python3.11/dist-packages (from matplotlib->ezyrb==1.3.0) (1.3.2)\n",
      "Requirement already satisfied: cycler>=0.10 in /usr/local/lib/python3.11/dist-packages (from matplotlib->ezyrb==1.3.0) (0.12.1)\n",
      "Requirement already satisfied: fonttools>=4.22.0 in /usr/local/lib/python3.11/dist-packages (from matplotlib->ezyrb==1.3.0) (4.59.0)\n",
      "Requirement already satisfied: kiwisolver>=1.3.1 in /usr/local/lib/python3.11/dist-packages (from matplotlib->ezyrb==1.3.0) (1.4.8)\n",
      "Requirement already satisfied: packaging>=20.0 in /usr/local/lib/python3.11/dist-packages (from matplotlib->ezyrb==1.3.0) (25.0)\n",
      "Requirement already satisfied: pillow>=8 in /usr/local/lib/python3.11/dist-packages (from matplotlib->ezyrb==1.3.0) (11.3.0)\n",
      "Requirement already satisfied: pyparsing>=2.3.1 in /usr/local/lib/python3.11/dist-packages (from matplotlib->ezyrb==1.3.0) (3.2.3)\n",
      "Requirement already satisfied: python-dateutil>=2.7 in /usr/local/lib/python3.11/dist-packages (from matplotlib->ezyrb==1.3.0) (2.9.0.post0)\n",
      "Requirement already satisfied: filelock in /usr/local/lib/python3.11/dist-packages (from torch->ezyrb==1.3.0) (3.18.0)\n",
      "Requirement already satisfied: typing-extensions>=4.10.0 in /usr/local/lib/python3.11/dist-packages (from torch->ezyrb==1.3.0) (4.14.1)\n",
      "Requirement already satisfied: networkx in /usr/local/lib/python3.11/dist-packages (from torch->ezyrb==1.3.0) (3.5)\n",
      "Requirement already satisfied: jinja2 in /usr/local/lib/python3.11/dist-packages (from torch->ezyrb==1.3.0) (3.1.6)\n",
      "Requirement already satisfied: fsspec in /usr/local/lib/python3.11/dist-packages (from torch->ezyrb==1.3.0) (2025.3.0)\n",
      "Collecting nvidia-cuda-nvrtc-cu12==12.4.127 (from torch->ezyrb==1.3.0)\n",
      "  Downloading nvidia_cuda_nvrtc_cu12-12.4.127-py3-none-manylinux2014_x86_64.whl.metadata (1.5 kB)\n",
      "Collecting nvidia-cuda-runtime-cu12==12.4.127 (from torch->ezyrb==1.3.0)\n",
      "  Downloading nvidia_cuda_runtime_cu12-12.4.127-py3-none-manylinux2014_x86_64.whl.metadata (1.5 kB)\n",
      "Collecting nvidia-cuda-cupti-cu12==12.4.127 (from torch->ezyrb==1.3.0)\n",
      "  Downloading nvidia_cuda_cupti_cu12-12.4.127-py3-none-manylinux2014_x86_64.whl.metadata (1.6 kB)\n",
      "Collecting nvidia-cudnn-cu12==9.1.0.70 (from torch->ezyrb==1.3.0)\n",
      "  Downloading nvidia_cudnn_cu12-9.1.0.70-py3-none-manylinux2014_x86_64.whl.metadata (1.6 kB)\n",
      "Collecting nvidia-cublas-cu12==12.4.5.8 (from torch->ezyrb==1.3.0)\n",
      "  Downloading nvidia_cublas_cu12-12.4.5.8-py3-none-manylinux2014_x86_64.whl.metadata (1.5 kB)\n",
      "Collecting nvidia-cufft-cu12==11.2.1.3 (from torch->ezyrb==1.3.0)\n",
      "  Downloading nvidia_cufft_cu12-11.2.1.3-py3-none-manylinux2014_x86_64.whl.metadata (1.5 kB)\n",
      "Collecting nvidia-curand-cu12==10.3.5.147 (from torch->ezyrb==1.3.0)\n",
      "  Downloading nvidia_curand_cu12-10.3.5.147-py3-none-manylinux2014_x86_64.whl.metadata (1.5 kB)\n",
      "Collecting nvidia-cusolver-cu12==11.6.1.9 (from torch->ezyrb==1.3.0)\n",
      "  Downloading nvidia_cusolver_cu12-11.6.1.9-py3-none-manylinux2014_x86_64.whl.metadata (1.6 kB)\n",
      "Collecting nvidia-cusparse-cu12==12.3.1.170 (from torch->ezyrb==1.3.0)\n",
      "  Downloading nvidia_cusparse_cu12-12.3.1.170-py3-none-manylinux2014_x86_64.whl.metadata (1.6 kB)\n",
      "Requirement already satisfied: nvidia-cusparselt-cu12==0.6.2 in /usr/local/lib/python3.11/dist-packages (from torch->ezyrb==1.3.0) (0.6.2)\n",
      "Requirement already satisfied: nvidia-nccl-cu12==2.21.5 in /usr/local/lib/python3.11/dist-packages (from torch->ezyrb==1.3.0) (2.21.5)\n",
      "Requirement already satisfied: nvidia-nvtx-cu12==12.4.127 in /usr/local/lib/python3.11/dist-packages (from torch->ezyrb==1.3.0) (12.4.127)\n",
      "Collecting nvidia-nvjitlink-cu12==12.4.127 (from torch->ezyrb==1.3.0)\n",
      "  Downloading nvidia_nvjitlink_cu12-12.4.127-py3-none-manylinux2014_x86_64.whl.metadata (1.5 kB)\n",
      "Requirement already satisfied: triton==3.2.0 in /usr/local/lib/python3.11/dist-packages (from torch->ezyrb==1.3.0) (3.2.0)\n",
      "Requirement already satisfied: sympy==1.13.1 in /usr/local/lib/python3.11/dist-packages (from torch->ezyrb==1.3.0) (1.13.1)\n",
      "Requirement already satisfied: mpmath<1.4,>=1.1.0 in /usr/local/lib/python3.11/dist-packages (from sympy==1.13.1->torch->ezyrb==1.3.0) (1.3.0)\n",
      "Requirement already satisfied: six>=1.5 in /usr/local/lib/python3.11/dist-packages (from python-dateutil>=2.7->matplotlib->ezyrb==1.3.0) (1.17.0)\n",
      "Requirement already satisfied: MarkupSafe>=2.0 in /usr/local/lib/python3.11/dist-packages (from jinja2->torch->ezyrb==1.3.0) (3.0.2)\n",
      "Downloading nvidia_cublas_cu12-12.4.5.8-py3-none-manylinux2014_x86_64.whl (363.4 MB)\n",
      "\u001b[2K   \u001b[90m\u2501\u2501\u2501\u2501\u2501\u2501\u2501\u2501\u2501\u2501\u2501\u2501\u2501\u2501\u2501\u2501\u2501\u2501\u2501\u2501\u2501\u2501\u2501\u2501\u2501\u2501\u2501\u2501\u2501\u2501\u2501\u2501\u2501\u2501\u2501\u2501\u2501\u2501\u2501\u2501\u001b[0m \u001b[32m363.4/363.4 MB\u001b[0m \u001b[31m4.0 MB/s\u001b[0m eta \u001b[36m0:00:00\u001b[0m\n",
      "\u001b[?25hDownloading nvidia_cuda_cupti_cu12-12.4.127-py3-none-manylinux2014_x86_64.whl (13.8 MB)\n",
      "\u001b[2K   \u001b[90m\u2501\u2501\u2501\u2501\u2501\u2501\u2501\u2501\u2501\u2501\u2501\u2501\u2501\u2501\u2501\u2501\u2501\u2501\u2501\u2501\u2501\u2501\u2501\u2501\u2501\u2501\u2501\u2501\u2501\u2501\u2501\u2501\u2501\u2501\u2501\u2501\u2501\u2501\u2501\u2501\u001b[0m \u001b[32m13.8/13.8 MB\u001b[0m \u001b[31m50.7 MB/s\u001b[0m eta \u001b[36m0:00:00\u001b[0m\n",
      "\u001b[?25hDownloading nvidia_cuda_nvrtc_cu12-12.4.127-py3-none-manylinux2014_x86_64.whl (24.6 MB)\n",
      "\u001b[2K   \u001b[90m\u2501\u2501\u2501\u2501\u2501\u2501\u2501\u2501\u2501\u2501\u2501\u2501\u2501\u2501\u2501\u2501\u2501\u2501\u2501\u2501\u2501\u2501\u2501\u2501\u2501\u2501\u2501\u2501\u2501\u2501\u2501\u2501\u2501\u2501\u2501\u2501\u2501\u2501\u2501\u2501\u001b[0m \u001b[32m24.6/24.6 MB\u001b[0m \u001b[31m31.1 MB/s\u001b[0m eta \u001b[36m0:00:00\u001b[0m\n",
      "\u001b[?25hDownloading nvidia_cuda_runtime_cu12-12.4.127-py3-none-manylinux2014_x86_64.whl (883 kB)\n",
      "\u001b[2K   \u001b[90m\u2501\u2501\u2501\u2501\u2501\u2501\u2501\u2501\u2501\u2501\u2501\u2501\u2501\u2501\u2501\u2501\u2501\u2501\u2501\u2501\u2501\u2501\u2501\u2501\u2501\u2501\u2501\u2501\u2501\u2501\u2501\u2501\u2501\u2501\u2501\u2501\u2501\u2501\u2501\u2501\u001b[0m \u001b[32m883.7/883.7 kB\u001b[0m \u001b[31m23.6 MB/s\u001b[0m eta \u001b[36m0:00:00\u001b[0m\n",
      "\u001b[?25hDownloading nvidia_cudnn_cu12-9.1.0.70-py3-none-manylinux2014_x86_64.whl (664.8 MB)\n",
      "\u001b[2K   \u001b[90m\u2501\u2501\u2501\u2501\u2501\u2501\u2501\u2501\u2501\u2501\u2501\u2501\u2501\u2501\u2501\u2501\u2501\u2501\u2501\u2501\u2501\u2501\u2501\u2501\u2501\u2501\u2501\u2501\u2501\u2501\u2501\u2501\u2501\u2501\u2501\u2501\u2501\u2501\u2501\u2501\u001b[0m \u001b[32m664.8/664.8 MB\u001b[0m \u001b[31m3.0 MB/s\u001b[0m eta \u001b[36m0:00:00\u001b[0m\n",
      "\u001b[?25hDownloading nvidia_cufft_cu12-11.2.1.3-py3-none-manylinux2014_x86_64.whl (211.5 MB)\n",
      "\u001b[2K   \u001b[90m\u2501\u2501\u2501\u2501\u2501\u2501\u2501\u2501\u2501\u2501\u2501\u2501\u2501\u2501\u2501\u2501\u2501\u2501\u2501\u2501\u2501\u2501\u2501\u2501\u2501\u2501\u2501\u2501\u2501\u2501\u2501\u2501\u2501\u2501\u2501\u2501\u2501\u2501\u2501\u2501\u001b[0m \u001b[32m211.5/211.5 MB\u001b[0m \u001b[31m5.6 MB/s\u001b[0m eta \u001b[36m0:00:00\u001b[0m\n",
      "\u001b[?25hDownloading nvidia_curand_cu12-10.3.5.147-py3-none-manylinux2014_x86_64.whl (56.3 MB)\n",
      "\u001b[2K   \u001b[90m\u2501\u2501\u2501\u2501\u2501\u2501\u2501\u2501\u2501\u2501\u2501\u2501\u2501\u2501\u2501\u2501\u2501\u2501\u2501\u2501\u2501\u2501\u2501\u2501\u2501\u2501\u2501\u2501\u2501\u2501\u2501\u2501\u2501\u2501\u2501\u2501\u2501\u2501\u2501\u2501\u001b[0m \u001b[32m56.3/56.3 MB\u001b[0m \u001b[31m11.2 MB/s\u001b[0m eta \u001b[36m0:00:00\u001b[0m\n",
      "\u001b[?25hDownloading nvidia_cusolver_cu12-11.6.1.9-py3-none-manylinux2014_x86_64.whl (127.9 MB)\n",
      "\u001b[2K   \u001b[90m\u2501\u2501\u2501\u2501\u2501\u2501\u2501\u2501\u2501\u2501\u2501\u2501\u2501\u2501\u2501\u2501\u2501\u2501\u2501\u2501\u2501\u2501\u2501\u2501\u2501\u2501\u2501\u2501\u2501\u2501\u2501\u2501\u2501\u2501\u2501\u2501\u2501\u2501\u2501\u2501\u001b[0m \u001b[32m127.9/127.9 MB\u001b[0m \u001b[31m7.3 MB/s\u001b[0m eta \u001b[36m0:00:00\u001b[0m\n",
      "\u001b[?25hDownloading nvidia_cusparse_cu12-12.3.1.170-py3-none-manylinux2014_x86_64.whl (207.5 MB)\n",
      "\u001b[2K   \u001b[90m\u2501\u2501\u2501\u2501\u2501\u2501\u2501\u2501\u2501\u2501\u2501\u2501\u2501\u2501\u2501\u2501\u2501\u2501\u2501\u2501\u2501\u2501\u2501\u2501\u2501\u2501\u2501\u2501\u2501\u2501\u2501\u2501\u2501\u2501\u2501\u2501\u2501\u2501\u2501\u2501\u001b[0m \u001b[32m207.5/207.5 MB\u001b[0m \u001b[31m6.3 MB/s\u001b[0m eta \u001b[36m0:00:00\u001b[0m\n",
      "\u001b[?25hDownloading nvidia_nvjitlink_cu12-12.4.127-py3-none-manylinux2014_x86_64.whl (21.1 MB)\n",
      "\u001b[2K   \u001b[90m\u2501\u2501\u2501\u2501\u2501\u2501\u2501\u2501\u2501\u2501\u2501\u2501\u2501\u2501\u2501\u2501\u2501\u2501\u2501\u2501\u2501\u2501\u2501\u2501\u2501\u2501\u2501\u2501\u2501\u2501\u2501\u2501\u2501\u2501\u2501\u2501\u2501\u2501\u2501\u2501\u001b[0m \u001b[32m21.1/21.1 MB\u001b[0m \u001b[31m71.4 MB/s\u001b[0m eta \u001b[36m0:00:00\u001b[0m\n",
      "\u001b[?25hBuilding wheels for collected packages: ezyrb\n",
      "  Building wheel for ezyrb (setup.py) ... \u001b[?25l\u001b[?25hdone\n",
      "  Created wheel for ezyrb: filename=ezyrb-1.3.0-py3-none-any.whl size=67486 sha256=fdc14012a4b7bbfc70171c842e0069c594d8b72862d8a83b52f608da8c441d80\n",
      "  Stored in directory: /tmp/pip-ephem-wheel-cache-hz3_4hgh/wheels/76/b3/98/4e81f7f467dd86d4f665265261e62b782f718d6d1ce2919faa\n",
      "Successfully built ezyrb\n",
      "Installing collected packages: nvidia-nvjitlink-cu12, nvidia-curand-cu12, nvidia-cufft-cu12, nvidia-cuda-runtime-cu12, nvidia-cuda-nvrtc-cu12, nvidia-cuda-cupti-cu12, nvidia-cublas-cu12, nvidia-cusparse-cu12, nvidia-cudnn-cu12, nvidia-cusolver-cu12, ezyrb\n",
      "  Attempting uninstall: nvidia-nvjitlink-cu12\n",
      "    Found existing installation: nvidia-nvjitlink-cu12 12.5.82\n",
      "    Uninstalling nvidia-nvjitlink-cu12-12.5.82:\n",
      "      Successfully uninstalled nvidia-nvjitlink-cu12-12.5.82\n",
      "  Attempting uninstall: nvidia-curand-cu12\n",
      "    Found existing installation: nvidia-curand-cu12 10.3.6.82\n",
      "    Uninstalling nvidia-curand-cu12-10.3.6.82:\n",
      "      Successfully uninstalled nvidia-curand-cu12-10.3.6.82\n",
      "  Attempting uninstall: nvidia-cufft-cu12\n",
      "    Found existing installation: nvidia-cufft-cu12 11.2.3.61\n",
      "    Uninstalling nvidia-cufft-cu12-11.2.3.61:\n",
      "      Successfully uninstalled nvidia-cufft-cu12-11.2.3.61\n",
      "  Attempting uninstall: nvidia-cuda-runtime-cu12\n",
      "    Found existing installation: nvidia-cuda-runtime-cu12 12.5.82\n",
      "    Uninstalling nvidia-cuda-runtime-cu12-12.5.82:\n",
      "      Successfully uninstalled nvidia-cuda-runtime-cu12-12.5.82\n",
      "  Attempting uninstall: nvidia-cuda-nvrtc-cu12\n",
      "    Found existing installation: nvidia-cuda-nvrtc-cu12 12.5.82\n",
      "    Uninstalling nvidia-cuda-nvrtc-cu12-12.5.82:\n",
      "      Successfully uninstalled nvidia-cuda-nvrtc-cu12-12.5.82\n",
      "  Attempting uninstall: nvidia-cuda-cupti-cu12\n",
      "    Found existing installation: nvidia-cuda-cupti-cu12 12.5.82\n",
      "    Uninstalling nvidia-cuda-cupti-cu12-12.5.82:\n",
      "      Successfully uninstalled nvidia-cuda-cupti-cu12-12.5.82\n",
      "  Attempting uninstall: nvidia-cublas-cu12\n",
      "    Found existing installation: nvidia-cublas-cu12 12.5.3.2\n",
      "    Uninstalling nvidia-cublas-cu12-12.5.3.2:\n",
      "      Successfully uninstalled nvidia-cublas-cu12-12.5.3.2\n",
      "  Attempting uninstall: nvidia-cusparse-cu12\n",
      "    Found existing installation: nvidia-cusparse-cu12 12.5.1.3\n",
      "    Uninstalling nvidia-cusparse-cu12-12.5.1.3:\n",
      "      Successfully uninstalled nvidia-cusparse-cu12-12.5.1.3\n",
      "  Attempting uninstall: nvidia-cudnn-cu12\n",
      "    Found existing installation: nvidia-cudnn-cu12 9.3.0.75\n",
      "    Uninstalling nvidia-cudnn-cu12-9.3.0.75:\n",
      "      Successfully uninstalled nvidia-cudnn-cu12-9.3.0.75\n",
      "  Attempting uninstall: nvidia-cusolver-cu12\n",
      "    Found existing installation: nvidia-cusolver-cu12 11.6.3.83\n",
      "    Uninstalling nvidia-cusolver-cu12-11.6.3.83:\n",
      "      Successfully uninstalled nvidia-cusolver-cu12-11.6.3.83\n",
      "Successfully installed ezyrb-1.3.0 nvidia-cublas-cu12-12.4.5.8 nvidia-cuda-cupti-cu12-12.4.127 nvidia-cuda-nvrtc-cu12-12.4.127 nvidia-cuda-runtime-cu12-12.4.127 nvidia-cudnn-cu12-9.1.0.70 nvidia-cufft-cu12-11.2.1.3 nvidia-curand-cu12-10.3.5.147 nvidia-cusolver-cu12-11.6.1.9 nvidia-cusparse-cu12-12.3.1.170 nvidia-nvjitlink-cu12-12.4.127\n"
     ]
    }
   ],
   "source": [
    "!pip install -U datasets huggingface_hub fsspec\n",
    "!pip install git+https://github.com/mathLab/EZyRB.git"
   ]
  },
  {
   "cell_type": "code",
   "execution_count": null,
   "id": "2b772df3",
   "metadata": {
    "colab": {
     "base_uri": "https://localhost:8080/",
     "height": 435,
     "referenced_widgets": [
      "99f28686dd9746e4809bc8edf12f4fe1",
      "15d8d10e74bd400c9e48faa3fb1d80b6",
      "5f1213d782b6419190c50bbf7df23768",
      "37cb6d2621c34f3ba3df21ed62a55595",
      "2f1de30abac34d029dddbe5816e41fc0",
      "3efc685d5b6640949687399b2812f875",
      "fb8d8d4e1417422bbe950024988e5bda",
      "31cd87abc82846bebc8e3df9247fc38d",
      "1c3dccdced2b428d95eb71859436144a",
      "94dafa0ed6e947ba83436ea1cbe49735",
      "be518e26562c44ffb59cfdccf79dd7c2",
      "b2479d90ffd6411daa2f38c3c6814278",
      "9cea706e0be341578c4dc5f1f83583f4",
      "287d5fd59c9942eea03e8599f1c9b3b7",
      "18d14dd8b84c4776b76f7508de11ec09",
      "52edeb033e3e417e9f6a5ee0069ff3bc",
      "7bbcd2a4fbf5428eb24daad233693512",
      "163d9901a1a6472fab85ad2de622ed66",
      "a2e07af2bb2e4d46b223e44f56600bba",
      "02166c6fa1ef447ab23aa65b63c472da",
      "a3b2b1c1924d478ba8fa3c4fa349a655",
      "095f1ee768d34a71b5269b73f581dfe9",
      "16c94a044a1044d998ead23867d9513e",
      "777e68f6a61b4f64b0095ae1bacc588f",
      "73098501525448379da2b3c2a66be415",
      "16665bc8fe6d4d5ea5407051b0def551",
      "4f105f4204b6432d99dcca68e2c02588",
      "32ac6eca065d487b8d558c5ab2d7c56e",
      "f46b909f39ca46f09317899015e01e89",
      "47356d6e1a54448f8f87af7a7e367c7b",
      "4867237b31ee4bd9b95c6079d4336609",
      "774d385f9e344a40a312c1bb97f8ea1b",
      "e60f328c6bdd4a44bdfe978c9bc1d54d",
      "9a6b80b3fc6e4ce5b3a5f13d55be354f",
      "866da06c41ee4d1da51c799475bb3230",
      "274f86a7d38b4acbb7f6cb9499905cf9",
      "8efc8a5067ca4af1b3ee65ef9ff0006d",
      "cba1f3d41a9a49f1ba2e153751145531",
      "25fcc28542854ec9a55db959c52ea867",
      "4e5c46a2faf6449cb605d599651ae5eb",
      "15c4e53f3f2d45fbbd94b5e43b3038a1",
      "fede307e81a741c698aee5d4bbfb6310",
      "3c0b522da49646a8a5a6d7bf4a346137",
      "66722c4f3440402ba05488e03ba9570f",
      "2c6e55246cb24f4abc6ffba0a523e444",
      "ed7ecb83db394ccbb037fa1e32becd1f",
      "a6ac942e95994182ace103bbdb9531e6",
      "5762378514144760a0e19e86fba91aba",
      "9793e0fe02d043d3bc7584675df1aeb8",
      "271cc1707de34cfdbc9a65b3eab7b65e",
      "1d38e8d8408f45299052958c73febb47",
      "f49186b38d8c4de0a064afaa79176a4e",
      "5c7a2ab149e34f83990349f2d6cba062",
      "456062898289476bb8132fd1aacdf1ae",
      "7b5a50b85b334cc1ac0e2ee2f25f5522",
      "5c1114daa6714706baa4354cd7b6f805",
      "c9e17f1c5be3450aa1b7693040a41264",
      "d409e28211f7411a89c4f418f747488f",
      "942dc22341cb48a3b56fac4ab2fc533f",
      "301ae39976044b3ab7ab0198f40380da",
      "0b47a82b655b449585395744241b8ac7",
      "bc8c3f8b3ac243ac922da3eb29a713e5",
      "08ef5ff407fd4e72a4fd5ce411be25db",
      "639ec0972ecf4496a5bb36a7fc5abbc4",
      "cc1c2e771b1b48698f05642e26ede346",
      "bdb9a317c5c24be182fece48f45baba3",
      "41700de5cd23463687e088b262547eb9",
      "5e8f2f2e3e884772b51b5bd4157f993f",
      "45933c224e524c0e87d01fe7e31c8384",
      "b79a0b127685444e8cb966205afb3e7d",
      "c7cc8d9afb794df79590295c7eaa1dbf",
      "a9b6764dd33245f7a206e4de180d3a5b",
      "6e720227dab641aea52d166199bea079",
      "45a7ac1303eb45ae858c82bc65ce625e",
      "140ab4fe7342499c811502946362eba0",
      "54810f906ff1432d91026720cdf52344",
      "de86a5908f474658b4a0f02eea4096c3",
      "f3dc152ce13b4b9292bf15139baecc32",
      "5dceac47899c4d19ae734316761402fe",
      "c6c6d636d72041369b89a4f4a60b7055",
      "2fe1b5d1425f4ea38cc005e8001b1266",
      "51789395278f444ab3d29d1b81e1e7bd",
      "6c8061fdcd374fc8af3ea0721a3386e3",
      "7a059cae907c47fbaa47810d0683904f",
      "dda74eab87524f7e8f0dd7f41c018eea",
      "dd5cea8992d74e7d834da8daff0f3ccf",
      "13ebf34af7744c7ab72ea8eb86b4b3cc",
      "7873658a657b4b3da46c72f87634a7d4",
      "0c582b795e0b402f8f14592133739ee4",
      "870f9e28c099466caef2ca4f22c9986c",
      "84bd359e897741d884ee3b5a9d548a30",
      "dd006dc234664810a29fe2b35f898c95",
      "b2730bfad67049c3b0c5a39fc60476c7",
      "addc542d5bff453b8d1cd89a8938f284",
      "c46a71c04eb94a8d91e8b9fb5450ab31",
      "c67c07fdb5b2460aaf4cb90aadea7d68",
      "d9578c74183b4cc4b27eb707e7227eb6",
      "e7105c0ad44546deb6e875d780eb5417",
      "79288985ebdb4a55b872bb66b203dd39"
     ]
    },
    "collapsed": true,
    "executionInfo": {
     "elapsed": 157144,
     "status": "ok",
     "timestamp": 1753303272930,
     "user": {
      "displayName": "Kshitij Kumar Pandey",
      "userId": "07153743731363514895"
     },
     "user_tz": -120
    },
    "id": "2b772df3",
    "outputId": "661dd5fe-e38e-468b-ddf8-9300bb744bec"
   },
   "outputs": [
    {
     "name": "stderr",
     "output_type": "stream",
     "text": [
      "/usr/local/lib/python3.11/dist-packages/huggingface_hub/utils/_auth.py:94: UserWarning: \n",
      "The secret `HF_TOKEN` does not exist in your Colab secrets.\n",
      "To authenticate with the Hugging Face Hub, create a token in your settings tab (https://huggingface.co/settings/tokens), set it as secret in your Google Colab and restart your session.\n",
      "You will be able to reuse this secret in all of your notebooks.\n",
      "Please note that authentication is recommended but still optional to access public models or datasets.\n",
      "  warnings.warn(\n"
     ]
    },
    {
     "data": {
      "application/vnd.jupyter.widget-view+json": {
       "model_id": "99f28686dd9746e4809bc8edf12f4fe1",
       "version_major": 2,
       "version_minor": 0
      },
      "text/plain": [
       "README.md: 0.00B [00:00, ?B/s]"
      ]
     },
     "metadata": {},
     "output_type": "display_data"
    },
    {
     "data": {
      "application/vnd.jupyter.widget-view+json": {
       "model_id": "b2479d90ffd6411daa2f38c3c6814278",
       "version_major": 2,
       "version_minor": 0
      },
      "text/plain": [
       "train-00000-of-00001.parquet:   0%|          | 0.00/26.1M [00:00<?, ?B/s]"
      ]
     },
     "metadata": {},
     "output_type": "display_data"
    },
    {
     "data": {
      "application/vnd.jupyter.widget-view+json": {
       "model_id": "16c94a044a1044d998ead23867d9513e",
       "version_major": 2,
       "version_minor": 0
      },
      "text/plain": [
       "Generating train split:   0%|          | 0/500 [00:00<?, ? examples/s]"
      ]
     },
     "metadata": {},
     "output_type": "display_data"
    },
    {
     "data": {
      "application/vnd.jupyter.widget-view+json": {
       "model_id": "9a6b80b3fc6e4ce5b3a5f13d55be354f",
       "version_major": 2,
       "version_minor": 0
      },
      "text/plain": [
       "train-00000-of-00001.parquet:   0%|          | 0.00/5.33k [00:00<?, ?B/s]"
      ]
     },
     "metadata": {},
     "output_type": "display_data"
    },
    {
     "data": {
      "application/vnd.jupyter.widget-view+json": {
       "model_id": "2c6e55246cb24f4abc6ffba0a523e444",
       "version_major": 2,
       "version_minor": 0
      },
      "text/plain": [
       "Generating train split:   0%|          | 0/500 [00:00<?, ? examples/s]"
      ]
     },
     "metadata": {},
     "output_type": "display_data"
    },
    {
     "data": {
      "application/vnd.jupyter.widget-view+json": {
       "model_id": "5c1114daa6714706baa4354cd7b6f805",
       "version_major": 2,
       "version_minor": 0
      },
      "text/plain": [
       "train-00000-of-00001.parquet:   0%|          | 0.00/35.2k [00:00<?, ?B/s]"
      ]
     },
     "metadata": {},
     "output_type": "display_data"
    },
    {
     "data": {
      "application/vnd.jupyter.widget-view+json": {
       "model_id": "41700de5cd23463687e088b262547eb9",
       "version_major": 2,
       "version_minor": 0
      },
      "text/plain": [
       "Generating train split:   0%|          | 0/3091 [00:00<?, ? examples/s]"
      ]
     },
     "metadata": {},
     "output_type": "display_data"
    },
    {
     "data": {
      "application/vnd.jupyter.widget-view+json": {
       "model_id": "f3dc152ce13b4b9292bf15139baecc32",
       "version_major": 2,
       "version_minor": 0
      },
      "text/plain": [
       "train-00000-of-00001.parquet:   0%|          | 0.00/681k [00:00<?, ?B/s]"
      ]
     },
     "metadata": {},
     "output_type": "display_data"
    },
    {
     "data": {
      "application/vnd.jupyter.widget-view+json": {
       "model_id": "0c582b795e0b402f8f14592133739ee4",
       "version_major": 2,
       "version_minor": 0
      },
      "text/plain": [
       "Generating train split:   0%|          | 0/2 [00:00<?, ? examples/s]"
      ]
     },
     "metadata": {},
     "output_type": "display_data"
    }
   ],
   "source": [
    "from datasets import load_dataset\n",
    "data_path = \"kshitij-pandey/navier_stokes_datasets\"\n",
    "snapshots_hf = load_dataset(data_path, \"snapshots_split\", split=\"train\")\n",
    "param_hf = load_dataset(data_path, \"params\", split=\"train\")\n",
    "triangles_hf    = load_dataset(data_path, \"triangles\", split=\"train\")\n",
    "coords_hf = load_dataset(data_path, \"coords\", split=\"train\")\n",
    "import numpy as np\n",
    "snapshots = {name: np.array(snapshots_hf[name]) for name in ['vx', 'vy', 'mag(v)', 'p']}\n",
    "# convert the dict files into numpy\n",
    "\n",
    "import pandas as pd\n",
    "\n",
    "def hf_to_numpy(ds):\n",
    "    return ds.to_pandas().to_numpy()\n",
    "\n",
    "\n",
    "params = hf_to_numpy(param_hf)\n",
    "triangles = hf_to_numpy(triangles_hf)\n",
    "coords = hf_to_numpy(coords_hf)\n"
   ]
  },
  {
   "cell_type": "markdown",
   "id": "26eba516",
   "metadata": {
    "id": "26eba516"
   },
   "source": [
    "The `NavierStokesDataset()` class contains the attribute:\n",
    "- `snapshots`: the matrices of snapshots stored by row (one matrix for any output field)\n",
    "- `params`: the matrix of corresponding parameters\n",
    "- `pts_coordinates`: the coordinates of all nodes of the discretize space\n",
    "- `faces`: the actual topology of the discretize space\n",
    "- `triang`: the triangulation, useful especially for rendering purposes.\n",
    "\n",
    "In the details, `snapshots` is a dictionary with the following output of interest:\n",
    "- **vx:** velocity in the X-direction.\n",
    "- **vy:** velocity in the Y-direction.\n",
    "- **mag(v):** velocity magnitude.\n",
    "- **p:** pressure value.\n",
    "\n",
    "In total, the dataset contains 500 parametric configurations in a space of 1639 degrees of freedom. In this case, we have just one parameter, which is the velocity (along $x$) we impose at the inlet."
   ]
  },
  {
   "cell_type": "code",
   "execution_count": 3,
   "id": "b8d8c9b8",
   "metadata": {
    "colab": {
     "base_uri": "https://localhost:8080/"
    },
    "executionInfo": {
     "elapsed": 15,
     "status": "ok",
     "timestamp": 1753303272931,
     "user": {
      "displayName": "Kshitij Kumar Pandey",
      "userId": "07153743731363514895"
     },
     "user_tz": -120
    },
    "id": "b8d8c9b8",
    "outputId": "0c8e0ec5-c9eb-4230-981a-bb057495262d"
   },
   "outputs": [
    {
     "name": "stdout",
     "output_type": "stream",
     "text": [
      "Shape of vx      snapshots matrix: (500, 1639)\n",
      "Shape of vy      snapshots matrix: (500, 1639)\n",
      "Shape of p       snapshots matrix: (500, 1639)\n",
      "Shape of mag(v)  snapshots matrix: (500, 1639)\n",
      "Shape of parameters matrix: (500, 1)\n"
     ]
    }
   ],
   "source": [
    "for name in ['vx', 'vy', 'p', 'mag(v)']:\n",
    "     print('Shape of {:7s} snapshots matrix: {}'.format(name, snapshots[name].shape))\n",
    "\n",
    "print('Shape of parameters matrix: {}'.format(params.shape))\n"
   ]
  },
  {
   "cell_type": "markdown",
   "id": "e796343a",
   "metadata": {
    "id": "e796343a"
   },
   "source": [
    "### Initial setting\n",
    "\n",
    "First of all, we import the required packages.\n",
    "\n",
    "From `EZyRB` we need:\n",
    "1. The `ROM` class, which performs the model order reduction process.\n",
    "2. A module such as `Database`, where the matrices of snapshots and parameters are stored.\n",
    "3. A dimensionality reduction method such as Proper Orthogonal Decomposition `POD` or Auto-Encoder network `AE`.\n",
    "4. An interpolation method to obtain an approximation for the parametric solution for a new set of parameters such as the Radial Basis Function `RBF`, Gaussian Process Regression `GPR`,  K-Neighbors Regressor `KNeighborsRegressor`,  Radius Neighbors Regressor `RadiusNeighborsRegressor` or Multidimensional Linear Interpolator `Linear`.\n",
    "\n",
    "We also need to import:\n",
    "* `numpy:` to handle arrays and matrices we will be working with.\n",
    "* `torch:` to enable the usage of Neural Networks\n",
    "* `matplotlib.pyplot:` to handle the plotting environment.\n",
    "* `matplotlib.tri:` for plotting of the triangular grid."
   ]
  },
  {
   "cell_type": "code",
   "execution_count": 4,
   "id": "533010c9",
   "metadata": {
    "executionInfo": {
     "elapsed": 9503,
     "status": "ok",
     "timestamp": 1753303282430,
     "user": {
      "displayName": "Kshitij Kumar Pandey",
      "userId": "07153743731363514895"
     },
     "user_tz": -120
    },
    "id": "533010c9"
   },
   "outputs": [],
   "source": [
    "# Database module\n",
    "from ezyrb import Database\n",
    "\n",
    "# Dimensionality reduction methods\n",
    "from ezyrb import POD, AE\n",
    "\n",
    "# Approximation/interpolation methods\n",
    "from ezyrb import RBF, GPR, KNeighborsRegressor, RadiusNeighborsRegressor, Linear, ANN\n",
    "\n",
    "# Model order reduction calss\n",
    "from ezyrb import ReducedOrderModel as ROM\n",
    "import torch\n",
    "import torch.nn as nn\n",
    "\n",
    "import matplotlib.tri as mtri\n",
    "import matplotlib.pyplot as plt\n",
    "\n",
    "import warnings\n",
    "warnings.filterwarnings(\"ignore\", message=\"Ill-conditioned matrix \")\n",
    "%matplotlib inline"
   ]
  },
  {
   "cell_type": "markdown",
   "id": "1004e3f8",
   "metadata": {
    "id": "1004e3f8"
   },
   "source": [
    "Before starting with the reduced order model, we visualize some of the snapshots in our dataset."
   ]
  },
  {
   "cell_type": "code",
   "execution_count": 5,
   "id": "95b5d41e",
   "metadata": {
    "colab": {
     "base_uri": "https://localhost:8080/",
     "height": 504
    },
    "executionInfo": {
     "elapsed": 3500,
     "status": "ok",
     "timestamp": 1753303285936,
     "user": {
      "displayName": "Kshitij Kumar Pandey",
      "userId": "07153743731363514895"
     },
     "user_tz": -120
    },
    "id": "95b5d41e",
    "outputId": "b0bc8795-d76d-4242-fda3-42d4617c4f4b",
    "scrolled": false
   },
   "outputs": [
    {
     "data": {
      "image/png": "[encoded data removed]",
      "text/plain": [
       "<Figure size 1600x800 with 9 Axes>"
      ]
     },
     "metadata": {},
     "output_type": "display_data"
    }
   ],
   "source": [
    "x, y  = coords\n",
    "from matplotlib.tri import Triangulation\n",
    "triang = Triangulation(x, y, triangles)\n",
    "fig, ax = plt.subplots(nrows=3, ncols=3, figsize=(16, 8), sharey=True, sharex=True)\n",
    "ax = ax.flatten()\n",
    "for i in range(9):\n",
    "    ax[i].tricontourf(triang, snapshots['vx'][i], levels=16)\n",
    "    ax[i].set_title('Original snapshot at inlet velocity = {}'.format(*params[i].round(2)))"
   ]
  },
  {
   "cell_type": "markdown",
   "id": "8eaf8f0a",
   "metadata": {
    "id": "8eaf8f0a"
   },
   "source": [
    "In this step, we perform the model order reduction to obtain a reduced space from the full order space. We refer to [Tutorial 1](https://github.com/mathLab/EZyRB/blob/master/tutorials/tutorial-1.ipynb) for the description of the basic workflow, here we just quickly describe the steps implemented in the next cell.\n",
    "\n",
    "We start by passing the matrices of the parameters and snapshots to the `Database()` class. It must be said that at this time we create the ROM for the `vx` field. We also instantiate the `POD` and `RBF` object to have a benchmark ROM."
   ]
  },
  {
   "cell_type": "code",
   "execution_count": 6,
   "id": "4d34d552",
   "metadata": {
    "executionInfo": {
     "elapsed": 711,
     "status": "ok",
     "timestamp": 1753303286649,
     "user": {
      "displayName": "Kshitij Kumar Pandey",
      "userId": "07153743731363514895"
     },
     "user_tz": -120
    },
    "id": "4d34d552"
   },
   "outputs": [],
   "source": [
    "db = Database(params, snapshots['vx'])\n",
    "rom = ROM(db, POD(), RBF())\n",
    "rom.fit();"
   ]
  },
  {
   "cell_type": "markdown",
   "id": "ebfae4bf",
   "metadata": {
    "id": "ebfae4bf"
   },
   "source": [
    "Three lines for a data-driven reduced order model, not bad!\n",
    "\n",
    "Just to have a visual check that everything is going well, we plot the approximation for new parameters in the range $[1, 80]$."
   ]
  },
  {
   "cell_type": "code",
   "execution_count": 7,
   "id": "5fcfaef2",
   "metadata": {
    "colab": {
     "base_uri": "https://localhost:8080/",
     "height": 229
    },
    "executionInfo": {
     "elapsed": 394,
     "status": "ok",
     "timestamp": 1753303287046,
     "user": {
      "displayName": "Kshitij Kumar Pandey",
      "userId": "07153743731363514895"
     },
     "user_tz": -120
    },
    "id": "5fcfaef2",
    "outputId": "0543e3e6-3281-469a-eb59-23a3c232be6d"
   },
   "outputs": [
    {
     "data": {
      "image/png": "[encoded data removed]",
      "text/plain": [
       "<Figure size 1600x300 with 2 Axes>"
      ]
     },
     "metadata": {},
     "output_type": "display_data"
    }
   ],
   "source": [
    "new_params = np.random.uniform(size=(2))*79.+1.\n",
    "\n",
    "fig, ax = plt.subplots(nrows=1, ncols=2, figsize=(16, 3))\n",
    "for i, param in enumerate(new_params):\n",
    "    ax[i].tricontourf(triang, *rom.predict([param]).snapshots_matrix)\n",
    "    ax[i].set_title('Predicted snapshots at inlet velocity = {}'.format(param))"
   ]
  },
  {
   "cell_type": "markdown",
   "id": "7b7be444",
   "metadata": {
    "id": "7b7be444"
   },
   "source": [
    "We are now calculating the approximation error to see how close is our reduced solution to the full-order solution/simulation using the **k-fold Cross-Validation** strategy by passing the number of splits to the `ReducedOrderModel.kfold_cv_error(n_splits)` method, which operates as follows:\n",
    "\n",
    "1. Split the dataset (parameters/snapshots) into $k$-number of groups/folds.\n",
    "2. Use $k-1$ groups to calculate the reduced space and leave one group for testing.\n",
    "3. Use the approximation/interpolation method to predict each snapshot in the testing group.\n",
    "4. Calculate the error for each snapshot in the testing group by taking the difference between the predicted and the original snapshot.\n",
    "5. Average the errors for predicting snapshots of the testing group/fold.\n",
    "6. Repeat this procedure using different groups for testing and the remaining $k-1$ groups to calculate the reduced space.\n",
    "7. In the end, we will have $k$-number errors for predicting each group/fold that we can average them to have one value for the error."
   ]
  },
  {
   "cell_type": "code",
   "execution_count": 8,
   "id": "f9f4483c",
   "metadata": {
    "colab": {
     "base_uri": "https://localhost:8080/"
    },
    "executionInfo": {
     "elapsed": 1851,
     "status": "ok",
     "timestamp": 1753303288899,
     "user": {
      "displayName": "Kshitij Kumar Pandey",
      "userId": "07153743731363514895"
     },
     "user_tz": -120
    },
    "id": "f9f4483c",
    "outputId": "6e8bacee-8f34-4be3-a52e-a273c4020be3"
   },
   "outputs": [
    {
     "name": "stdout",
     "output_type": "stream",
     "text": [
      "Average error for each fold:\n",
      "   4.945136597864199e-07\n",
      "   9.86076102695249e-07\n",
      "   3.894778059089648e-06\n",
      "   5.3036420477734276e-06\n",
      "   1.298462179837029e-07\n",
      "\n",
      "Average error = 2.1617712174656897e-06\n"
     ]
    }
   ],
   "source": [
    "errors = rom.kfold_cv_error(n_splits = 5)\n",
    "print('Average error for each fold:')\n",
    "for e in errors:\n",
    "    print('  ',e)\n",
    "print('\\nAverage error = {}'.format(errors.mean()))"
   ]
  },
  {
   "cell_type": "markdown",
   "id": "bfa43316",
   "metadata": {
    "id": "bfa43316"
   },
   "source": [
    "Another strategy for calculating the approximation error is called **leave-one-out** by using the  `ReducedOrderModel.loo_error()` method, which is similar to setting the number of folds equal to the number of snapshots (eg. in this case setting `n_splits` = 500) and it operates as follows:\n",
    "1. Combine all the snapshots except one.\n",
    "2. Calculate the reduced space.\n",
    "3. Use the approximation/interpolation method to predict the removed snapshot.\n",
    "4. Calculate the error by taking the difference between the predicted snapshot and the original removed one.\n",
    "5. The error vector is obtained by repeating this procedure for each snapshot in the database.\n",
    "\n",
    "It is worth mentioning that it consumes more time because we have 500 snapshots and the algorithm will perform space order reduction and calculate the approximation error 500 times. For this reason, we commented the next line of code, in order to limit the computational effort needed to run this tutorial. Uncomment it only if you are a really brave person!"
   ]
  },
  {
   "cell_type": "code",
   "execution_count": 9,
   "id": "df343c05",
   "metadata": {
    "executionInfo": {
     "elapsed": 2,
     "status": "ok",
     "timestamp": 1753303288903,
     "user": {
      "displayName": "Kshitij Kumar Pandey",
      "userId": "07153743731363514895"
     },
     "user_tz": -120
    },
    "id": "df343c05"
   },
   "outputs": [],
   "source": [
    "# errors = rom.loo_error()"
   ]
  },
  {
   "cell_type": "markdown",
   "id": "945a52e3",
   "metadata": {
    "id": "945a52e3"
   },
   "source": [
    "### Comparison between different methods\n",
    "\n",
    "One of the advantages of the data-driven reduced order modeling is the modular nature of the method. Practically speaking, we need\n",
    "- a method for reducing the dimensionality of input snapshots;\n",
    "- a method for approximate the solution manifold;\n",
    "\n",
    "allowing in principle a large variety of combinations.\n",
    "\n",
    "The list of implemented **reduction methods** in EZyRB contains:\n",
    "- `POD`: *proper orthogonal decomposition*\n",
    "- `AE`: *autoencoder*\n",
    "\n",
    "while the list of implemented **approximation methods** contains:\n",
    "- `RBF`: *radial basis function interpolation*\n",
    "- `GPR`: *gaussian process regression*\n",
    "- `KNeighborsRegressor`: *k-neighbors regression*\n",
    "- `RadiusNeighborsRegressor`: *radius neighbors regression*\n",
    "- `Linear`: *multidimensional linear interpolation*\n",
    "\n",
    "Moreover, new state-of-the-art methods will arrive, so we invite you to read the [documentation](https://mathlab.github.io/EZyRB/) for the complete list of all the possibilities!\n",
    "\n",
    "In the next cell, we create two dictionaries with the objects, such that we can easily test everything with simple `for` cycles. **WARNING** since several methods require the solution of an optimization problem (eg. GPR, ANN, AE), the cell may require some minutes to be run."
   ]
  },
  {
   "cell_type": "code",
   "execution_count": 10,
   "id": "2760dcea",
   "metadata": {
    "colab": {
     "base_uri": "https://localhost:8080/"
    },
    "executionInfo": {
     "elapsed": 28441,
     "status": "ok",
     "timestamp": 1753303317395,
     "user": {
      "displayName": "Kshitij Kumar Pandey",
      "userId": "07153743731363514895"
     },
     "user_tz": -120
    },
    "id": "2760dcea",
    "outputId": "6589ae7a-3347-440c-eabe-7db6f85122db"
   },
   "outputs": [
    {
     "name": "stdout",
     "output_type": "stream",
     "text": [
      "                       RBF             GPR      KNeighbors RadiusNeighbors             ANN\n",
      "[epoch      1]\t9.552292e+04\n",
      "[epoch     10]\t9.546308e+04\n",
      "[epoch      1]\t9.717124e+04\n",
      "[epoch     10]\t9.394288e+04\n",
      "[epoch      1]\t9.390123e+04\n",
      "[epoch     10]\t9.070695e+04\n",
      "[epoch      1]\t9.016239e+04\n",
      "[epoch     10]\t8.747394e+04\n",
      "[epoch      1]\t9.297216e+04\n",
      "[epoch     10]\t9.052832e+04\n",
      "[epoch      1]\t9.303061e+04\n",
      "[epoch     10]\t9.086118e+04\n",
      "POD           1.204641e-05    2.970147e-05    8.032581e-03    1.091257e-02    9.720516e-01\n",
      "[epoch      1]\t5.825196e+02\n",
      "[epoch     10]\t5.575154e+02\n",
      "[epoch      1]\t5.816525e+02\n",
      "[epoch     10]\t7.542178e+01\n",
      "[epoch      1]\t5.960423e+02\n",
      "[epoch     10]\t7.254456e+01\n",
      "[epoch      1]\t5.821843e+02\n",
      "[epoch     10]\t1.140573e+02\n",
      "[epoch      1]\t5.850476e+02\n",
      "[epoch     10]\t8.712418e+01\n",
      "[epoch      1]\t5.703002e+02\n",
      "[epoch     10]\t9.224741e+01\n",
      "[epoch      1]\t5.838640e+02\n",
      "[epoch     10]\t9.697124e+01\n",
      "[epoch      1]\t5.824384e+02\n",
      "[epoch     10]\t8.382781e+01\n",
      "[epoch      1]\t5.972413e+02\n",
      "[epoch     10]\t1.000489e+02\n",
      "[epoch      1]\t5.824288e+02\n",
      "[epoch     10]\t1.159946e+02\n",
      "[epoch      1]\t5.844561e+02\n",
      "[epoch     10]\t8.188377e+01\n",
      "[epoch      1]\t5.686895e+02\n",
      "[epoch     10]\t9.589268e+01\n",
      "[epoch      1]\t5.829741e+02\n",
      "[epoch     10]\t1.057218e+02\n",
      "[epoch      1]\t5.854851e+02\n",
      "[epoch     10]\t1.984348e+02\n",
      "[epoch      1]\t5.978563e+02\n",
      "[epoch     10]\t9.254156e+01\n",
      "[epoch      1]\t5.820558e+02\n",
      "[epoch     10]\t1.060469e+02\n",
      "[epoch      1]\t5.856129e+02\n",
      "[epoch     10]\t6.725970e+01\n",
      "[epoch      1]\t5.690880e+02\n",
      "[epoch     10]\t8.200848e+01\n",
      "[epoch      1]\t5.835947e+02\n",
      "[epoch     10]\t8.691646e+01\n",
      "[epoch      1]\t5.812208e+02\n",
      "[epoch     10]\t6.915376e+01\n",
      "[epoch      1]\t5.960715e+02\n",
      "[epoch     10]\t7.712676e+01\n",
      "[epoch      1]\t5.812619e+02\n",
      "[epoch     10]\t8.149507e+01\n",
      "[epoch      1]\t5.874238e+02\n",
      "[epoch     10]\t1.011458e+02\n",
      "[epoch      1]\t5.688601e+02\n",
      "[epoch     10]\t7.845106e+01\n",
      "[epoch      1]\t5.836358e+02\n",
      "[epoch     10]\t9.010907e+01\n",
      "[epoch      1]\t3.542524e+03\n",
      "[epoch     10]\t2.990850e+03\n",
      "[epoch      1]\t5.814325e+02\n",
      "[epoch     10]\t8.633266e+01\n",
      "[epoch      1]\t5.281078e+03\n",
      "[epoch     10]\t4.688614e+03\n",
      "[epoch      1]\t5.971737e+02\n",
      "[epoch     10]\t1.139824e+02\n",
      "[epoch      1]\t3.950016e+03\n",
      "[epoch     10]\t3.483226e+03\n",
      "[epoch      1]\t5.805435e+02\n",
      "[epoch     10]\t7.528350e+01\n",
      "[epoch      1]\t4.465279e+03\n",
      "[epoch     10]\t3.919339e+03\n",
      "[epoch      1]\t5.843740e+02\n",
      "[epoch     10]\t8.277487e+01\n",
      "[epoch      1]\t3.716152e+03\n",
      "[epoch     10]\t3.085733e+03\n",
      "[epoch      1]\t5.690876e+02\n",
      "[epoch     10]\t7.657240e+01\n",
      "[epoch      1]\t3.638531e+03\n",
      "[epoch     10]\t3.177635e+03\n",
      "AE            3.486621e-01    3.575820e-01    3.740117e-01    3.356829e-01    9.407356e-01\n"
     ]
    }
   ],
   "source": [
    "reductions = {\n",
    "    'POD': POD('svd',rank=10),\n",
    "    'AE': AE([200, 100, 10], [10, 100, 200], nn.Tanh(), nn.Tanh(), 10),\n",
    "}\n",
    "\n",
    "approximations = {\n",
    "#    'Linear': Linear(),\n",
    "    'RBF': RBF(),\n",
    "    'GPR': GPR(),\n",
    "    'KNeighbors': KNeighborsRegressor(),\n",
    "    'RadiusNeighbors':  RadiusNeighborsRegressor(),\n",
    "    'ANN': ANN([20, 20], nn.Tanh(), 10),\n",
    "}\n",
    "\n",
    "header = '{:10s}'.format('')\n",
    "for name in approximations:\n",
    "    header += ' {:>15s}'.format(name)\n",
    "\n",
    "print(header)\n",
    "for redname, redclass in reductions.items():\n",
    "    row = '{:10s}'.format(redname)\n",
    "    for approxname, approxclass in approximations.items():\n",
    "        rom = ROM(db, redclass, approxclass)\n",
    "        rom.fit()\n",
    "        row += ' {:15e}'.format(rom.kfold_cv_error(n_splits=5).mean())\n",
    "\n",
    "    print(row)\n"
   ]
  },
  {
   "cell_type": "markdown",
   "id": "5d055510",
   "metadata": {
    "id": "5d055510"
   },
   "source": [
    "In a very compact way, we tested several frameworks - like POD-RBF, POD-GPR, POD-NN -, showing the accuracy reached by any of them.\n",
    "\n",
    "We can also note that the frameworks that involve neural networks (`AE` and `ANN`) show a very poor precision. This is due to the fact of the limited number of epochs we impose in the learning procedure. You can try to increase the number of epochs as we shown in the next cell in order to obtain better results, at the cost of a longer training phase."
   ]
  },
  {
   "cell_type": "code",
   "execution_count": 11,
   "id": "a5353ea6",
   "metadata": {
    "executionInfo": {
     "elapsed": 2,
     "status": "ok",
     "timestamp": 1753303317399,
     "user": {
      "displayName": "Kshitij Kumar Pandey",
      "userId": "07153743731363514895"
     },
     "user_tz": -120
    },
    "id": "a5353ea6"
   },
   "outputs": [],
   "source": [
    "reductions['AE'] = AE([100, 10], [10, 100], nn.ReLU(), nn.ReLU(), 30000)\n",
    "approximations['ANN'] = ANN([50, 10], nn.ReLU(), 30000)"
   ]
  }
 ],
 "metadata": {
  "colab": {
   "provenance": []
  },
  "hide_input": false,
  "kernelspec": {
   "display_name": "Python 3 (ipykernel)",
   "language": "python",
   "name": "python3"
  },
  "language_info": {
   "codemirror_mode": {
    "name": "ipython",
    "version": 3
   },
   "file_extension": ".py",
   "mimetype": "text/x-python",
   "name": "python",
   "nbconvert_exporter": "python",
   "pygments_lexer": "ipython3",
   "version": "3.8.12"
  },
  "latex_envs": {
   "LaTeX_envs_menu_present": true,
   "autoclose": false,
   "autocomplete": true,
   "bibliofile": "biblio.bib",
   "cite_by": "apalike",
   "current_citInitial": 1,
   "eqLabelWithNumbers": true,
   "eqNumInitial": 1,
   "hotkeys": {
    "equation": "Ctrl-E",
    "itemize": "Ctrl-I"
   },
   "labels_anchors": false,
   "latex_user_defs": false,
   "report_style_numbering": false,
   "user_envs_cfg": false
  },
  "toc": {
   "base_numbering": "1",
   "nav_menu": {},
   "number_sections": false,
   "sideBar": true,
   "skip_h1_title": false,
   "title_cell": "Table of Contents",
   "title_sidebar": "Contents",
   "toc_cell": true,
   "toc_position": {
    "height": "533.6px",
    "left": "27px",
    "top": "111.125px",
    "width": "383.938px"
   },
   "toc_section_display": true,
   "toc_window_display": true
  },
  "varInspector": {
   "cols": {
    "lenName": 16,
    "lenType": 16,
    "lenVar": 40
   },
   "kernels_config": {
    "python": {
     "delete_cmd_postfix": "",
     "delete_cmd_prefix": "del ",
     "library": "var_list.py",
     "varRefreshCmd": "print(var_dic_list())"
    },
    "r": {
     "delete_cmd_postfix": ") ",
     "delete_cmd_prefix": "rm(",
     "library": "var_list.r",
     "varRefreshCmd": "cat(var_dic_list()) "
    }
   },
   "position": {
    "height": "305.844px",
    "left": "1553px",
    "right": "20px",
    "top": "120px",
    "width": "347px"
   },
   "types_to_exclude": [
    "module",
    "function",
    "builtin_function_or_method",
    "instance",
    "_Feature"
   ],
   "window_display": false
  }
 },
 "nbformat": 4,
 "nbformat_minor": 5
}